{
 "cells": [
  {
   "cell_type": "markdown",
   "metadata": {},
   "source": [
    "## STCML School 2018 via Neural Network\n",
    "\n",
    "Let's import all necessary libraries."
   ]
  },
  {
   "cell_type": "code",
   "execution_count": 1,
   "metadata": {},
   "outputs": [],
   "source": [
    "import os\n",
    "import pandas as pd\n",
    "import matplotlib.pyplot as plt\n",
    "import numpy as np\n",
    "import librosa\n",
    "\n",
    "from sklearn.model_selection import train_test_split\n",
    "\n",
    "import torch\n",
    "import torch.nn as nn\n",
    "from torch.autograd import Variable\n",
    "import torch.nn.functional as F\n",
    "\n",
    "from IPython.display import clear_output\n",
    "\n",
    "from tqdm import tqdm_notebook\n",
    "\n",
    "%matplotlib inline"
   ]
  },
  {
   "cell_type": "code",
   "execution_count": 2,
   "metadata": {},
   "outputs": [],
   "source": [
    "plt.rcParams['figure.figsize'] = (16, 4)"
   ]
  },
  {
   "cell_type": "markdown",
   "metadata": {},
   "source": [
    "Fix random state."
   ]
  },
  {
   "cell_type": "code",
   "execution_count": 3,
   "metadata": {},
   "outputs": [],
   "source": [
    "RANDOM_STATE = 314159"
   ]
  },
  {
   "cell_type": "code",
   "execution_count": 4,
   "metadata": {},
   "outputs": [],
   "source": [
    "np.random.seed(RANDOM_STATE)"
   ]
  },
  {
   "cell_type": "markdown",
   "metadata": {},
   "source": [
    "Read meta data for trainset."
   ]
  },
  {
   "cell_type": "code",
   "execution_count": 5,
   "metadata": {},
   "outputs": [
    {
     "data": {
      "text/html": [
       "<div>\n",
       "<style>\n",
       "    .dataframe thead tr:only-child th {\n",
       "        text-align: right;\n",
       "    }\n",
       "\n",
       "    .dataframe thead th {\n",
       "        text-align: left;\n",
       "    }\n",
       "\n",
       "    .dataframe tbody tr th {\n",
       "        vertical-align: top;\n",
       "    }\n",
       "</style>\n",
       "<table border=\"1\" class=\"dataframe\">\n",
       "  <thead>\n",
       "    <tr style=\"text-align: right;\">\n",
       "      <th></th>\n",
       "      <th>file_names</th>\n",
       "      <th>label</th>\n",
       "    </tr>\n",
       "  </thead>\n",
       "  <tbody>\n",
       "    <tr>\n",
       "      <th>0</th>\n",
       "      <td>background_0001.wav</td>\n",
       "      <td>background</td>\n",
       "    </tr>\n",
       "    <tr>\n",
       "      <th>1</th>\n",
       "      <td>background_0001_time_stretch_0.wav</td>\n",
       "      <td>background</td>\n",
       "    </tr>\n",
       "    <tr>\n",
       "      <th>2</th>\n",
       "      <td>background_0001_time_stretch_1.wav</td>\n",
       "      <td>background</td>\n",
       "    </tr>\n",
       "    <tr>\n",
       "      <th>3</th>\n",
       "      <td>background_0001_time_stretch_10.wav</td>\n",
       "      <td>background</td>\n",
       "    </tr>\n",
       "    <tr>\n",
       "      <th>4</th>\n",
       "      <td>background_0001_time_stretch_11.wav</td>\n",
       "      <td>background</td>\n",
       "    </tr>\n",
       "  </tbody>\n",
       "</table>\n",
       "</div>"
      ],
      "text/plain": [
       "                            file_names       label\n",
       "0                  background_0001.wav  background\n",
       "1   background_0001_time_stretch_0.wav  background\n",
       "2   background_0001_time_stretch_1.wav  background\n",
       "3  background_0001_time_stretch_10.wav  background\n",
       "4  background_0001_time_stretch_11.wav  background"
      ]
     },
     "execution_count": 5,
     "metadata": {},
     "output_type": "execute_result"
    }
   ],
   "source": [
    "meta = pd.read_csv('./data_v_7_stc/meta/meta.txt', sep='\\t',\n",
    "                   header=None,\n",
    "                   names=['file_names', 'label'],\n",
    "                   usecols=[0, 4])\n",
    "meta.head()"
   ]
  },
  {
   "cell_type": "markdown",
   "metadata": {},
   "source": [
    "Create the mapping from labels to indices and vice-versa."
   ]
  },
  {
   "cell_type": "code",
   "execution_count": 6,
   "metadata": {},
   "outputs": [],
   "source": [
    "index_to_label = ['background', 'bags', 'door', 'keyboard', 'knocking_door', 'ring', 'speech', 'tool', 'unknown']\n",
    "label_to_index = {label:index for index, label in enumerate(index_to_label)}"
   ]
  },
  {
   "cell_type": "code",
   "execution_count": 7,
   "metadata": {},
   "outputs": [
    {
     "data": {
      "text/html": [
       "<div>\n",
       "<style>\n",
       "    .dataframe thead tr:only-child th {\n",
       "        text-align: right;\n",
       "    }\n",
       "\n",
       "    .dataframe thead th {\n",
       "        text-align: left;\n",
       "    }\n",
       "\n",
       "    .dataframe tbody tr th {\n",
       "        vertical-align: top;\n",
       "    }\n",
       "</style>\n",
       "<table border=\"1\" class=\"dataframe\">\n",
       "  <thead>\n",
       "    <tr style=\"text-align: right;\">\n",
       "      <th></th>\n",
       "      <th>file_names</th>\n",
       "      <th>label</th>\n",
       "    </tr>\n",
       "  </thead>\n",
       "  <tbody>\n",
       "    <tr>\n",
       "      <th>0</th>\n",
       "      <td>background_0001.wav</td>\n",
       "      <td>0</td>\n",
       "    </tr>\n",
       "    <tr>\n",
       "      <th>1</th>\n",
       "      <td>background_0001_time_stretch_0.wav</td>\n",
       "      <td>0</td>\n",
       "    </tr>\n",
       "    <tr>\n",
       "      <th>2</th>\n",
       "      <td>background_0001_time_stretch_1.wav</td>\n",
       "      <td>0</td>\n",
       "    </tr>\n",
       "    <tr>\n",
       "      <th>3</th>\n",
       "      <td>background_0001_time_stretch_10.wav</td>\n",
       "      <td>0</td>\n",
       "    </tr>\n",
       "    <tr>\n",
       "      <th>4</th>\n",
       "      <td>background_0001_time_stretch_11.wav</td>\n",
       "      <td>0</td>\n",
       "    </tr>\n",
       "  </tbody>\n",
       "</table>\n",
       "</div>"
      ],
      "text/plain": [
       "                            file_names  label\n",
       "0                  background_0001.wav      0\n",
       "1   background_0001_time_stretch_0.wav      0\n",
       "2   background_0001_time_stretch_1.wav      0\n",
       "3  background_0001_time_stretch_10.wav      0\n",
       "4  background_0001_time_stretch_11.wav      0"
      ]
     },
     "execution_count": 7,
     "metadata": {},
     "output_type": "execute_result"
    }
   ],
   "source": [
    "meta.label = meta.label.apply(lambda label : label_to_index[label])\n",
    "meta.head()"
   ]
  },
  {
   "cell_type": "markdown",
   "metadata": {},
   "source": [
    "Write the function returning valid `.wav` file names between meta data and the corresponding folder."
   ]
  },
  {
   "cell_type": "code",
   "execution_count": 8,
   "metadata": {},
   "outputs": [],
   "source": [
    "def getWavFileNames(path_to_fnames, df=None):\n",
    "    wav_fnames = []\n",
    "    wav_labels = []\n",
    "    existing_fnames = list(fname for fname in os.listdir(path_to_fnames) if '.wav' in fname)\n",
    "    if df is not None:\n",
    "        existing_fnames = set(existing_fnames)\n",
    "        for item in tqdm_notebook(df.iterrows(), total=len(df)):\n",
    "            fname = item[1].file_names\n",
    "            label = item[1].label\n",
    "            if fname in existing_fnames:\n",
    "                wav_fnames.append(fname.strip())\n",
    "                wav_labels.append(label)\n",
    "    else:\n",
    "        for fname in tqdm_notebook(existing_fnames):\n",
    "            label = fname.split('_')\n",
    "            if 'knocking' == label[0]:\n",
    "                label = ['_'.join(label[:2])]\n",
    "            wav_fnames.append(fname.strip())\n",
    "            wav_labels.append(label_to_index[label[0]])\n",
    "            \n",
    "            \n",
    "    return wav_fnames, wav_labels"
   ]
  },
  {
   "cell_type": "code",
   "execution_count": 9,
   "metadata": {},
   "outputs": [
    {
     "data": {
      "application/vnd.jupyter.widget-view+json": {
       "model_id": "cbb69a0176b8419482237907dee130ee",
       "version_major": 2,
       "version_minor": 0
      },
      "text/plain": [
       "A Jupyter Widget"
      ]
     },
     "metadata": {},
     "output_type": "display_data"
    },
    {
     "name": "stdout",
     "output_type": "stream",
     "text": [
      "\n"
     ]
    },
    {
     "data": {
      "text/plain": [
       "(['background_0001.wav',\n",
       "  'background_0001_time_stretch_0.wav',\n",
       "  'background_0001_time_stretch_1.wav',\n",
       "  'background_0001_time_stretch_10.wav',\n",
       "  'background_0001_time_stretch_11.wav',\n",
       "  'background_0001_time_stretch_12.wav',\n",
       "  'background_0001_time_stretch_13.wav',\n",
       "  'background_0001_time_stretch_2.wav',\n",
       "  'background_0001_time_stretch_3.wav',\n",
       "  'background_0001_time_stretch_4.wav'],\n",
       " [0, 0, 0, 0, 0, 0, 0, 0, 0, 0])"
      ]
     },
     "execution_count": 9,
     "metadata": {},
     "output_type": "execute_result"
    }
   ],
   "source": [
    "path_to_train = './data_v_7_stc/audio/'\n",
    "train_wav_fnames, train_wav_labels = getWavFileNames(path_to_train, meta)\n",
    "train_wav_fnames[:10], train_wav_labels[:10]"
   ]
  },
  {
   "cell_type": "code",
   "execution_count": 10,
   "metadata": {},
   "outputs": [
    {
     "data": {
      "application/vnd.jupyter.widget-view+json": {
       "model_id": "a33e3660787747428b23a177532d1a5a",
       "version_major": 2,
       "version_minor": 0
      },
      "text/plain": [
       "A Jupyter Widget"
      ]
     },
     "metadata": {},
     "output_type": "display_data"
    },
    {
     "name": "stdout",
     "output_type": "stream",
     "text": [
      "\n"
     ]
    },
    {
     "data": {
      "text/plain": [
       "(['background_0001.wav',\n",
       "  'background_0004.wav',\n",
       "  'background_0009.wav',\n",
       "  'background_0012.wav',\n",
       "  'background_0016.wav',\n",
       "  'background_0018.wav',\n",
       "  'background_0022.wav',\n",
       "  'background_0028.wav',\n",
       "  'background_0031.wav',\n",
       "  'background_0036.wav'],\n",
       " [0, 0, 0, 0, 0, 0, 0, 0, 0, 0])"
      ]
     },
     "execution_count": 10,
     "metadata": {},
     "output_type": "execute_result"
    }
   ],
   "source": [
    "path_to_test = './data_v_7_stc/test'\n",
    "test_wav_fnames, test_wav_labels = getWavFileNames(path_to_test)\n",
    "test_wav_fnames[:10], test_wav_labels[:10]"
   ]
  },
  {
   "cell_type": "markdown",
   "metadata": {},
   "source": [
    "Let's split train data to train and validation sets."
   ]
  },
  {
   "cell_type": "code",
   "execution_count": 11,
   "metadata": {},
   "outputs": [
    {
     "data": {
      "text/plain": [
       "(7914, 3393)"
      ]
     },
     "execution_count": 11,
     "metadata": {},
     "output_type": "execute_result"
    }
   ],
   "source": [
    "train_wav_fnames, val_wav_fnames, train_wav_labels, val_wav_labels = train_test_split(train_wav_fnames, train_wav_labels, test_size=0.3, random_state=RANDOM_STATE)\n",
    "len(train_wav_fnames), len(val_wav_fnames)"
   ]
  },
  {
   "cell_type": "markdown",
   "metadata": {},
   "source": [
    "We will use simple feature extractor (`MFCC`, `MEL SPECTROGRAM`, etc.)."
   ]
  },
  {
   "cell_type": "code",
   "execution_count": 12,
   "metadata": {},
   "outputs": [],
   "source": [
    "def padAudio(samples, sr=16000):\n",
    "    if len(samples) >= sr:\n",
    "        return samples\n",
    "    else:\n",
    "        return np.pad(samples, pad_width=(sr - len(samples), 0), mode='constant', constant_values=(0, 0))"
   ]
  },
  {
   "cell_type": "code",
   "execution_count": 13,
   "metadata": {},
   "outputs": [],
   "source": [
    "def windows(data, window_size):\n",
    "    start = 0\n",
    "    while start < len(data):\n",
    "        yield start, start + window_size\n",
    "        start += (window_size // 2)"
   ]
  },
  {
   "cell_type": "code",
   "execution_count": 14,
   "metadata": {},
   "outputs": [],
   "source": [
    "def extractFeatures(path, fnames, tlabels, bands=60, frames=41):\n",
    "    window_size = 512*(frames - 1)\n",
    "    log_specgrams = []\n",
    "    labels = []\n",
    "    spec_num = []\n",
    "    for fname, label in tqdm_notebook(zip(fnames, tlabels), total=len(fnames)):\n",
    "        sound_clip, s = librosa.load(os.path.join(path, fname))\n",
    "        sound_clip = padAudio(sound_clip, sr=s)\n",
    "        i = 0\n",
    "        for start, end in windows(sound_clip, window_size):\n",
    "            if(len(sound_clip[start:end]) == window_size):\n",
    "                signal = sound_clip[start:end]\n",
    "                melspec = librosa.feature.melspectrogram(signal, n_mels=bands)\n",
    "                logspec = librosa.amplitude_to_db(melspec)\n",
    "                logspec = logspec.T.flatten()[:, np.newaxis].T\n",
    "                log_specgrams.append(logspec)\n",
    "                i += 1\n",
    "                labels.append(label)\n",
    "        spec_num.append(i)\n",
    "            \n",
    "    log_specgrams = np.asarray(log_specgrams).reshape(len(log_specgrams), 1, bands, frames)\n",
    "    features = np.concatenate((log_specgrams, np.zeros(np.shape(log_specgrams))), axis=1)\n",
    "    for i in range(len(features)):\n",
    "        features[i, 1, ...] = librosa.feature.delta(features[i, 0, ...])\n",
    "    \n",
    "    return np.array(features), np.array(labels, dtype=np.int), np.array(spec_num, dtype=np.int)"
   ]
  },
  {
   "cell_type": "code",
   "execution_count": 15,
   "metadata": {},
   "outputs": [
    {
     "data": {
      "text/plain": [
       "((79787, 2, 60, 41), (79787,))"
      ]
     },
     "execution_count": 15,
     "metadata": {},
     "output_type": "execute_result"
    }
   ],
   "source": [
    "if os.path.exists('./X_train_2.npy') and os.path.exists('./y_train_2.npy'):\n",
    "    X_train = np.load('./X_train_2.npy')\n",
    "    y_train = np.load('./y_train_2.npy')\n",
    "else:\n",
    "    X_train, y_train, _ = extractFeatures(path_to_train, train_wav_fnames, train_wav_labels)\n",
    "    np.save('./X_train_2', X_train)\n",
    "    np.save('./y_train_2', y_train)\n",
    "\n",
    "X_train.shape, y_train.shape"
   ]
  },
  {
   "cell_type": "code",
   "execution_count": 16,
   "metadata": {},
   "outputs": [
    {
     "data": {
      "text/plain": [
       "0"
      ]
     },
     "execution_count": 16,
     "metadata": {},
     "output_type": "execute_result"
    },
    {
     "data": {
      "image/png": "[encoded data removed]",
      "text/plain": [
       "<matplotlib.figure.Figure at 0x1bd3bdbbf28>"
      ]
     },
     "metadata": {},
     "output_type": "display_data"
    }
   ],
   "source": [
    "plt.imshow(X_train[3][0]); y_train[3]"
   ]
  },
  {
   "cell_type": "code",
   "execution_count": 17,
   "metadata": {
    "scrolled": true
   },
   "outputs": [
    {
     "data": {
      "text/plain": [
       "((34564, 2, 60, 41), (34564,), (3393,))"
      ]
     },
     "execution_count": 17,
     "metadata": {},
     "output_type": "execute_result"
    }
   ],
   "source": [
    "if os.path.exists('./X_val_2.npy') and os.path.exists('./y_val_2.npy') and os.path.exists('./c_val_2.npy'):\n",
    "    X_val = np.load('./X_val_2.npy')\n",
    "    y_val = np.load('./y_val_2.npy')\n",
    "    c_val = np.load('./c_val_2.npy')\n",
    "else:\n",
    "    X_val, y_val, c_val = extractFeatures(path_to_train, val_wav_fnames, val_wav_labels)\n",
    "    np.save('./X_val_2', X_val)\n",
    "    np.save('./y_val_2', y_val)\n",
    "    np.save('./c_val_2', c_val)\n",
    "\n",
    "X_val.shape, y_val.shape, c_val.shape"
   ]
  },
  {
   "cell_type": "code",
   "execution_count": 18,
   "metadata": {},
   "outputs": [
    {
     "data": {
      "text/plain": [
       "4"
      ]
     },
     "execution_count": 18,
     "metadata": {},
     "output_type": "execute_result"
    },
    {
     "data": {
      "image/png": "[encoded data removed]",
      "text/plain": [
       "<matplotlib.figure.Figure at 0x1bd3c0bdfd0>"
      ]
     },
     "metadata": {},
     "output_type": "display_data"
    }
   ],
   "source": [
    "plt.imshow(X_val[3][0]); y_val[3]"
   ]
  },
  {
   "cell_type": "markdown",
   "metadata": {},
   "source": [
    "Let's define simple CNN using pytorch."
   ]
  },
  {
   "cell_type": "code",
   "execution_count": 19,
   "metadata": {},
   "outputs": [],
   "source": [
    "def dataGenerator(data, batch_size=32):\n",
    "    X, y = data\n",
    "    n = len(X)\n",
    "    inds = np.arange(n)\n",
    "    np.random.shuffle(inds)\n",
    "    for start in range(0, n, batch_size):\n",
    "        end = min(start + batch_size, n)\n",
    "        yield X[inds[start:end]], y[inds[start:end]]"
   ]
  },
  {
   "cell_type": "code",
   "execution_count": 20,
   "metadata": {},
   "outputs": [],
   "source": [
    "class Flatten(nn.Module):\n",
    "    def __init__(self):\n",
    "        super(Flatten, self).__init__()\n",
    "        \n",
    "    def forward(self, x):\n",
    "        return x.view(x.shape[0], -1)"
   ]
  },
  {
   "cell_type": "code",
   "execution_count": 21,
   "metadata": {},
   "outputs": [],
   "source": [
    "net = nn.Sequential(\n",
    "    nn.Conv2d(2, 32, 3),\n",
    "    nn.BatchNorm2d(32),\n",
    "    nn.ReLU(inplace=True),\n",
    "    nn.Conv2d(32, 32, 3),\n",
    "    nn.BatchNorm2d(32),\n",
    "    nn.ReLU(inplace=True),\n",
    "    nn.MaxPool2d(2, 2),\n",
    "    \n",
    "    nn.Conv2d(32, 64, 3),\n",
    "    nn.BatchNorm2d(64),\n",
    "    nn.ReLU(inplace=True),\n",
    "    nn.Conv2d(64, 64, 3),\n",
    "    nn.BatchNorm2d(64),\n",
    "    nn.MaxPool2d(2, 2),\n",
    "    nn.ReLU(inplace=True),\n",
    "    \n",
    "    nn.Conv2d(64, 128, 3),\n",
    "    nn.BatchNorm2d(128),\n",
    "    nn.ReLU(inplace=True),\n",
    "    nn.Conv2d(128, 128, 3),\n",
    "    nn.BatchNorm2d(128),\n",
    "    nn.MaxPool2d(2, 2),\n",
    "    nn.ReLU(inplace=True),\n",
    "    \n",
    "    Flatten(),\n",
    "    \n",
    "    nn.Linear(512, 512),\n",
    "    nn.Dropout(0.5),\n",
    "    nn.ReLU(inplace=True),\n",
    "    \n",
    "    nn.Linear(512, 512),\n",
    "    nn.Dropout(0.5),\n",
    "    nn.ReLU(inplace=True),\n",
    "    \n",
    "    nn.Linear(512, 8),\n",
    ").cuda()"
   ]
  },
  {
   "cell_type": "code",
   "execution_count": 22,
   "metadata": {},
   "outputs": [],
   "source": [
    "def calcLoss(inp, target):\n",
    "    return F.cross_entropy(inp, target)"
   ]
  },
  {
   "cell_type": "code",
   "execution_count": 23,
   "metadata": {},
   "outputs": [
    {
     "data": {
      "text/plain": [
       "Variable containing:\n",
       " 1.9810\n",
       "[torch.cuda.FloatTensor of size 1 (GPU 0)]"
      ]
     },
     "execution_count": 23,
     "metadata": {},
     "output_type": "execute_result"
    }
   ],
   "source": [
    "logits = net(Variable(torch.FloatTensor(next(dataGenerator((X_train, y_train), 1))[0])).cuda())\n",
    "target = Variable(torch.LongTensor(next(dataGenerator((X_train, y_train), 1))[1])).cuda()\n",
    "calcLoss(logits, target)"
   ]
  },
  {
   "cell_type": "markdown",
   "metadata": {},
   "source": [
    "Ok, it seems works. Choose Adam optimizer and learn about $30$ epochs."
   ]
  },
  {
   "cell_type": "code",
   "execution_count": 24,
   "metadata": {},
   "outputs": [],
   "source": [
    "opt = torch.optim.Adam(net.parameters(), 1e-3)"
   ]
  },
  {
   "cell_type": "code",
   "execution_count": 25,
   "metadata": {
    "scrolled": false
   },
   "outputs": [
    {
     "data": {
      "image/png": "[encoded data removed]",
      "text/plain": [
       "<matplotlib.figure.Figure at 0x1bd01743eb8>"
      ]
     },
     "metadata": {},
     "output_type": "display_data"
    }
   ],
   "source": [
    "batch_size = 32\n",
    "epochs = 30\n",
    "\n",
    "train_loss = []\n",
    "train_acc = []\n",
    "val_loss = []\n",
    "val_acc = []\n",
    "for epoch in range(epochs):\n",
    "    net.train()\n",
    "    train_loss_loc = 0\n",
    "    train_acc_loc = 0\n",
    "    i = 0\n",
    "    for xtr, ytr in tqdm_notebook(dataGenerator((X_train, y_train), batch_size=batch_size), total=len(X_train)//batch_size + 1):\n",
    "        xtr, target = Variable(torch.FloatTensor(xtr)).cuda(), Variable(torch.LongTensor(ytr)).cuda()\n",
    "        logits = net(xtr)\n",
    "        loss = calcLoss(logits, target)\n",
    "        train_loss_loc += loss.cpu().data.numpy()[0]\n",
    "        train_acc_loc += (ytr == F.softmax(logits, dim=1).cpu().data.numpy().argmax(1)).mean()\n",
    "        opt.zero_grad()\n",
    "        loss.backward()\n",
    "        opt.step()\n",
    "        i += 1\n",
    "    train_loss.append(train_loss_loc/i)\n",
    "    train_acc.append(train_acc_loc/i)\n",
    "\n",
    "    net.eval()\n",
    "    start = 0\n",
    "    val_loss_loc = 0\n",
    "    val_acc_loc = 0\n",
    "    y_pred = []\n",
    "    yval = []\n",
    "    for num in tqdm_notebook(c_val):\n",
    "        yval.append(y_val[start])\n",
    "        xval = Variable(torch.FloatTensor(X_val[start:start + num]), volatile=True).cuda()\n",
    "        target = Variable(torch.LongTensor(y_val[start:start + num]), volatile=True).cuda()\n",
    "        logits = net(xval)\n",
    "        loss = calcLoss(logits, target)\n",
    "        val_loss_loc += loss.cpu().data.numpy()[0]\n",
    "        probas = F.softmax(logits, dim=1).cpu().data.numpy()\n",
    "        y_pred.append(probas.mean(0))\n",
    "        start += num\n",
    "    y_pred = np.array(y_pred)\n",
    "    yval = np.array(yval)\n",
    "    val_loss.append(val_loss_loc/len(c_val))\n",
    "    val_acc.append((y_pred.argmax(1) == yval).mean())\n",
    "\n",
    "    clear_output(True)\n",
    "    plt.subplot(1, 2, 1)\n",
    "    plt.plot(train_loss, label='train loss')\n",
    "    plt.plot(val_loss, label='val loss')\n",
    "    plt.legend()\n",
    "    plt.xlabel('epoch number')\n",
    "    plt.ylabel('XEntropy loss')\n",
    "    plt.grid(ls='--')\n",
    "    \n",
    "    plt.subplot(1, 2, 2)\n",
    "    plt.plot(train_acc, label='train acc')\n",
    "    plt.plot(val_acc, label='val acc')\n",
    "    plt.legend()\n",
    "    plt.xlabel('epoch number')\n",
    "    plt.ylabel('Accuracy')\n",
    "    plt.grid(ls='--')\n",
    "\n",
    "    plt.show()"
   ]
  },
  {
   "cell_type": "code",
   "execution_count": 26,
   "metadata": {},
   "outputs": [
    {
     "data": {
      "text/plain": [
       "((6754, 2, 60, 41), (6754,), (610,))"
      ]
     },
     "execution_count": 26,
     "metadata": {},
     "output_type": "execute_result"
    }
   ],
   "source": [
    "if os.path.exists('./X_test_2.npy') and os.path.exists('./y_test_2.npy') and os.path.exists('./c_test_2.npy'):\n",
    "    X_test = np.load('./X_test_2.npy')\n",
    "    y_test = np.load('./y_test_2.npy')\n",
    "    c_test = np.load('./c_test_2.npy')\n",
    "else:\n",
    "    X_test, y_test, c_test = extractFeatures(path_to_test, test_wav_fnames, test_wav_labels)\n",
    "    np.save('./X_test_2', X_test)\n",
    "    np.save('./y_test_2', y_test)\n",
    "    np.save('./c_test_2', c_test)\n",
    "\n",
    "X_test.shape, y_test.shape, c_test.shape"
   ]
  },
  {
   "cell_type": "code",
   "execution_count": 27,
   "metadata": {},
   "outputs": [
    {
     "data": {
      "application/vnd.jupyter.widget-view+json": {
       "model_id": "f6c347ccd199471784803b11f739d644",
       "version_major": 2,
       "version_minor": 0
      },
      "text/plain": [
       "A Jupyter Widget"
      ]
     },
     "metadata": {},
     "output_type": "display_data"
    },
    {
     "name": "stdout",
     "output_type": "stream",
     "text": [
      "\n"
     ]
    },
    {
     "data": {
      "text/plain": [
       "(7.0617992109589931, 0.70983606557377055, 0.91543340380549687)"
      ]
     },
     "execution_count": 27,
     "metadata": {},
     "output_type": "execute_result"
    }
   ],
   "source": [
    "net.eval()\n",
    "start = 0\n",
    "test_loss_loc = 0\n",
    "test_acc_loc = 0\n",
    "y_pred = []\n",
    "ytest = []\n",
    "for num in tqdm_notebook(c_test):\n",
    "    ytest.append(y_test[start])\n",
    "    xtest = Variable(torch.FloatTensor(X_test[start:start + num]), volatile=True).cuda()\n",
    "    target = Variable(torch.LongTensor(y_test[start:start + num]), volatile=True).cuda()\n",
    "    logits = net(xtest)\n",
    "    loss = calcLoss(logits, target)\n",
    "    test_loss_loc += loss.cpu().data.numpy()[0]\n",
    "    probas = F.softmax(logits, dim=1).cpu().data.numpy()\n",
    "    y_pred.append(probas.mean(0))\n",
    "    start += num\n",
    "y_pred = np.array(y_pred)\n",
    "ytest = np.array(ytest)\n",
    "\n",
    "test_loss_loc/len(c_test), (y_pred.argmax(1) == ytest).mean(), (y_pred.argmax(1) == ytest)[:-137].mean()"
   ]
  },
  {
   "cell_type": "markdown",
   "metadata": {},
   "source": [
    "Finetune on the whole trainset."
   ]
  },
  {
   "cell_type": "code",
   "execution_count": 31,
   "metadata": {},
   "outputs": [
    {
     "data": {
      "image/png": "[encoded data removed]",
      "text/plain": [
       "<matplotlib.figure.Figure at 0x1bd18b706a0>"
      ]
     },
     "metadata": {},
     "output_type": "display_data"
    }
   ],
   "source": [
    "batch_size = 32\n",
    "epochs = 30\n",
    "\n",
    "train_loss_ft = []\n",
    "train_acc_ft = []\n",
    "for epoch in range(epochs):\n",
    "    net.train()\n",
    "    train_loss_loc = 0\n",
    "    train_acc_loc = 0\n",
    "    i = 0\n",
    "    for xtr, ytr in tqdm_notebook(dataGenerator((np.vstack([X_train, X_val]), np.hstack([y_train, y_val])),\n",
    "                                                batch_size=batch_size),\n",
    "                                  total=(len(X_train) + len(X_val))//batch_size + 1):\n",
    "        xtr, target = Variable(torch.FloatTensor(xtr)).cuda(), Variable(torch.LongTensor(ytr)).cuda()\n",
    "        logits = net(xtr)\n",
    "        loss = calcLoss(logits, target)\n",
    "        train_loss_loc += loss.cpu().data.numpy()[0]\n",
    "        train_acc_loc += (ytr == F.softmax(logits, dim=1).cpu().data.numpy().argmax(1)).mean()\n",
    "        opt.zero_grad()\n",
    "        loss.backward()\n",
    "        opt.step()\n",
    "        i += 1\n",
    "    train_loss_ft.append(train_loss_loc/i)\n",
    "    train_acc_ft.append(train_acc_loc/i)\n",
    "\n",
    "    clear_output(True)\n",
    "    plt.subplot(1, 2, 1)\n",
    "    plt.plot(train_loss_ft, label='train loss')\n",
    "    plt.legend()\n",
    "    plt.xlabel('epoch number')\n",
    "    plt.ylabel('XEntropy loss')\n",
    "    plt.grid(ls='--')\n",
    "    \n",
    "    plt.subplot(1, 2, 2)\n",
    "    plt.plot(train_acc_ft, label='train acc')\n",
    "    plt.legend()\n",
    "    plt.xlabel('epoch number')\n",
    "    plt.ylabel('Accuracy')\n",
    "    plt.grid(ls='--')\n",
    "\n",
    "    plt.show()"
   ]
  },
  {
   "cell_type": "code",
   "execution_count": 32,
   "metadata": {},
   "outputs": [
    {
     "data": {
      "application/vnd.jupyter.widget-view+json": {
       "model_id": "0a98a02070bb432fa3e7ca9d89cd3da7",
       "version_major": 2,
       "version_minor": 0
      },
      "text/plain": [
       "A Jupyter Widget"
      ]
     },
     "metadata": {},
     "output_type": "display_data"
    },
    {
     "name": "stdout",
     "output_type": "stream",
     "text": [
      "\n"
     ]
    },
    {
     "data": {
      "text/plain": [
       "(8.5381629154143077, 0.69999999999999996, 0.90274841437632136)"
      ]
     },
     "execution_count": 32,
     "metadata": {},
     "output_type": "execute_result"
    }
   ],
   "source": [
    "net.eval()\n",
    "start = 0\n",
    "test_loss_loc = 0\n",
    "test_acc_loc = 0\n",
    "y_pred = []\n",
    "ytest = []\n",
    "for num in tqdm_notebook(c_test):\n",
    "    ytest.append(y_test[start])\n",
    "    xtest = Variable(torch.FloatTensor(X_test[start:start + num]), volatile=True).cuda()\n",
    "    target = Variable(torch.LongTensor(y_test[start:start + num]), volatile=True).cuda()\n",
    "    logits = net(xtest)\n",
    "    loss = calcLoss(logits, target)\n",
    "    test_loss_loc += loss.cpu().data.numpy()[0]\n",
    "    probas = F.softmax(logits, dim=1).cpu().data.numpy()\n",
    "    y_pred.append(probas.mean(0))\n",
    "    start += num\n",
    "y_pred = np.array(y_pred)\n",
    "ytest = np.array(ytest)\n",
    "\n",
    "test_loss_loc/len(c_test), (y_pred.argmax(1) == ytest).mean(), (y_pred.argmax(1) == ytest)[:-137].mean()"
   ]
  },
  {
   "cell_type": "markdown",
   "metadata": {},
   "source": [
    "Write results to file."
   ]
  },
  {
   "cell_type": "code",
   "execution_count": 33,
   "metadata": {},
   "outputs": [],
   "source": [
    "with open('./result_nn30.txt', 'w') as out:\n",
    "    for fname, probas in zip(test_wav_fnames, y_pred):\n",
    "        out.write('\\t'.join([fname, str(np.max(probas)), str(index_to_label[np.argmax(probas)])]))\n",
    "        out.write('\\n')"
   ]
  }
 ],
 "metadata": {
  "kernelspec": {
   "display_name": "Python 3",
   "language": "python",
   "name": "python3"
  },
  "language_info": {
   "codemirror_mode": {
    "name": "ipython",
    "version": 3
   },
   "file_extension": ".py",
   "mimetype": "text/x-python",
   "name": "python",
   "nbconvert_exporter": "python",
   "pygments_lexer": "ipython3",
   "version": "3.5.4"
  }
 },
 "nbformat": 4,
 "nbformat_minor": 2
}
