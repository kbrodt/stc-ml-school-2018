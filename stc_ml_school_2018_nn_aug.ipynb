{
 "cells": [
  {
   "cell_type": "markdown",
   "metadata": {},
   "source": [
    "## STCML School 2018 via Neural Network\n",
    "\n",
    "Let's import all necessary libraries."
   ]
  },
  {
   "cell_type": "code",
   "execution_count": 1,
   "metadata": {},
   "outputs": [],
   "source": [
    "import os\n",
    "import pandas as pd\n",
    "import matplotlib.pyplot as plt\n",
    "import numpy as np\n",
    "import librosa\n",
    "\n",
    "from sklearn.model_selection import train_test_split\n",
    "from skimage.transform import resize\n",
    "\n",
    "import torch\n",
    "import torch.nn as nn\n",
    "import torch.nn.functional as F\n",
    "\n",
    "from IPython.display import clear_output\n",
    "\n",
    "from tqdm import tqdm_notebook\n",
    "\n",
    "%matplotlib inline"
   ]
  },
  {
   "cell_type": "code",
   "execution_count": 2,
   "metadata": {},
   "outputs": [],
   "source": [
    "plt.rcParams['figure.figsize'] = (16, 4)"
   ]
  },
  {
   "cell_type": "markdown",
   "metadata": {},
   "source": [
    "Fix random state."
   ]
  },
  {
   "cell_type": "code",
   "execution_count": 3,
   "metadata": {},
   "outputs": [],
   "source": [
    "RANDOM_STATE = 314159\n",
    "device = torch.device('cuda' if torch.cuda.is_available() else 'cpu')\n",
    "\n",
    "# np.random.seed(RANDOM_STATE)\n",
    "# torch.manual_seed(seed=RANDOM_STATE)\n",
    "# torch.cuda.manual_seed_all(seed=RANDOM_STATE)"
   ]
  },
  {
   "cell_type": "markdown",
   "metadata": {},
   "source": [
    "Read meta data for trainset."
   ]
  },
  {
   "cell_type": "code",
   "execution_count": 4,
   "metadata": {},
   "outputs": [
    {
     "data": {
      "text/html": [
       "<div>\n",
       "<style>\n",
       "    .dataframe thead tr:only-child th {\n",
       "        text-align: right;\n",
       "    }\n",
       "\n",
       "    .dataframe thead th {\n",
       "        text-align: left;\n",
       "    }\n",
       "\n",
       "    .dataframe tbody tr th {\n",
       "        vertical-align: top;\n",
       "    }\n",
       "</style>\n",
       "<table border=\"1\" class=\"dataframe\">\n",
       "  <thead>\n",
       "    <tr style=\"text-align: right;\">\n",
       "      <th></th>\n",
       "      <th>file_names</th>\n",
       "      <th>label</th>\n",
       "    </tr>\n",
       "  </thead>\n",
       "  <tbody>\n",
       "    <tr>\n",
       "      <th>0</th>\n",
       "      <td>background_0001.wav</td>\n",
       "      <td>background</td>\n",
       "    </tr>\n",
       "    <tr>\n",
       "      <th>1</th>\n",
       "      <td>background_0001_time_stretch_0.wav</td>\n",
       "      <td>background</td>\n",
       "    </tr>\n",
       "    <tr>\n",
       "      <th>2</th>\n",
       "      <td>background_0001_time_stretch_1.wav</td>\n",
       "      <td>background</td>\n",
       "    </tr>\n",
       "    <tr>\n",
       "      <th>3</th>\n",
       "      <td>background_0001_time_stretch_10.wav</td>\n",
       "      <td>background</td>\n",
       "    </tr>\n",
       "    <tr>\n",
       "      <th>4</th>\n",
       "      <td>background_0001_time_stretch_11.wav</td>\n",
       "      <td>background</td>\n",
       "    </tr>\n",
       "  </tbody>\n",
       "</table>\n",
       "</div>"
      ],
      "text/plain": [
       "                            file_names       label\n",
       "0                  background_0001.wav  background\n",
       "1   background_0001_time_stretch_0.wav  background\n",
       "2   background_0001_time_stretch_1.wav  background\n",
       "3  background_0001_time_stretch_10.wav  background\n",
       "4  background_0001_time_stretch_11.wav  background"
      ]
     },
     "execution_count": 4,
     "metadata": {},
     "output_type": "execute_result"
    }
   ],
   "source": [
    "meta = pd.read_csv('./data_v_7_stc/meta/meta.txt', sep='\\t',\n",
    "                   header=None,\n",
    "                   names=['file_names', 'label'],\n",
    "                   usecols=[0, 4])\n",
    "meta.head()"
   ]
  },
  {
   "cell_type": "markdown",
   "metadata": {},
   "source": [
    "Create the mapping from labels to indices and vice-versa."
   ]
  },
  {
   "cell_type": "code",
   "execution_count": 5,
   "metadata": {},
   "outputs": [],
   "source": [
    "index_to_label = ['background', 'bags', 'door', 'keyboard', 'knocking_door', 'ring', 'speech', 'tool', 'unknown']\n",
    "label_to_index = {label:index for index, label in enumerate(index_to_label)}"
   ]
  },
  {
   "cell_type": "code",
   "execution_count": 6,
   "metadata": {},
   "outputs": [
    {
     "data": {
      "text/html": [
       "<div>\n",
       "<style>\n",
       "    .dataframe thead tr:only-child th {\n",
       "        text-align: right;\n",
       "    }\n",
       "\n",
       "    .dataframe thead th {\n",
       "        text-align: left;\n",
       "    }\n",
       "\n",
       "    .dataframe tbody tr th {\n",
       "        vertical-align: top;\n",
       "    }\n",
       "</style>\n",
       "<table border=\"1\" class=\"dataframe\">\n",
       "  <thead>\n",
       "    <tr style=\"text-align: right;\">\n",
       "      <th></th>\n",
       "      <th>file_names</th>\n",
       "      <th>label</th>\n",
       "    </tr>\n",
       "  </thead>\n",
       "  <tbody>\n",
       "    <tr>\n",
       "      <th>0</th>\n",
       "      <td>background_0001.wav</td>\n",
       "      <td>0</td>\n",
       "    </tr>\n",
       "    <tr>\n",
       "      <th>1</th>\n",
       "      <td>background_0001_time_stretch_0.wav</td>\n",
       "      <td>0</td>\n",
       "    </tr>\n",
       "    <tr>\n",
       "      <th>2</th>\n",
       "      <td>background_0001_time_stretch_1.wav</td>\n",
       "      <td>0</td>\n",
       "    </tr>\n",
       "    <tr>\n",
       "      <th>3</th>\n",
       "      <td>background_0001_time_stretch_10.wav</td>\n",
       "      <td>0</td>\n",
       "    </tr>\n",
       "    <tr>\n",
       "      <th>4</th>\n",
       "      <td>background_0001_time_stretch_11.wav</td>\n",
       "      <td>0</td>\n",
       "    </tr>\n",
       "  </tbody>\n",
       "</table>\n",
       "</div>"
      ],
      "text/plain": [
       "                            file_names  label\n",
       "0                  background_0001.wav      0\n",
       "1   background_0001_time_stretch_0.wav      0\n",
       "2   background_0001_time_stretch_1.wav      0\n",
       "3  background_0001_time_stretch_10.wav      0\n",
       "4  background_0001_time_stretch_11.wav      0"
      ]
     },
     "execution_count": 6,
     "metadata": {},
     "output_type": "execute_result"
    }
   ],
   "source": [
    "meta.label = meta.label.apply(lambda label : label_to_index[label])\n",
    "meta.head()"
   ]
  },
  {
   "cell_type": "markdown",
   "metadata": {},
   "source": [
    "Write the function returning valid `.wav` file names between meta data and the corresponding folder."
   ]
  },
  {
   "cell_type": "code",
   "execution_count": 7,
   "metadata": {},
   "outputs": [],
   "source": [
    "def getWavFileNames(path_to_fnames, df=None):\n",
    "    wav_fnames = []\n",
    "    wav_labels = []\n",
    "    existing_fnames = list(fname for fname in os.listdir(path_to_fnames) if '.wav' in fname)\n",
    "    if df is not None:\n",
    "        existing_fnames = set(existing_fnames)\n",
    "        for item in tqdm_notebook(df.iterrows(), total=len(df)):\n",
    "            fname = item[1].file_names\n",
    "            label = item[1].label\n",
    "            if fname in existing_fnames:\n",
    "                wav_fnames.append(fname.strip())\n",
    "                wav_labels.append(label)\n",
    "    else:\n",
    "        for fname in tqdm_notebook(existing_fnames):\n",
    "            label = fname.split('_')\n",
    "            if 'knocking' == label[0]:\n",
    "                label = ['_'.join(label[:2])]\n",
    "            wav_fnames.append(fname.strip())\n",
    "            wav_labels.append(label_to_index[label[0]])\n",
    "            \n",
    "            \n",
    "    return wav_fnames, wav_labels"
   ]
  },
  {
   "cell_type": "code",
   "execution_count": 8,
   "metadata": {},
   "outputs": [
    {
     "data": {
      "application/vnd.jupyter.widget-view+json": {
       "model_id": "4828e170a333441b8a715736c18e1785",
       "version_major": 2,
       "version_minor": 0
      },
      "text/plain": [
       "A Jupyter Widget"
      ]
     },
     "metadata": {},
     "output_type": "display_data"
    },
    {
     "name": "stdout",
     "output_type": "stream",
     "text": [
      "\n"
     ]
    },
    {
     "data": {
      "text/plain": [
       "(['background_0001.wav',\n",
       "  'background_0001_time_stretch_0.wav',\n",
       "  'background_0001_time_stretch_1.wav',\n",
       "  'background_0001_time_stretch_10.wav',\n",
       "  'background_0001_time_stretch_11.wav',\n",
       "  'background_0001_time_stretch_12.wav',\n",
       "  'background_0001_time_stretch_13.wav',\n",
       "  'background_0001_time_stretch_2.wav',\n",
       "  'background_0001_time_stretch_3.wav',\n",
       "  'background_0001_time_stretch_4.wav'],\n",
       " [0, 0, 0, 0, 0, 0, 0, 0, 0, 0])"
      ]
     },
     "execution_count": 8,
     "metadata": {},
     "output_type": "execute_result"
    }
   ],
   "source": [
    "path_to_train = './data_v_7_stc/audio/'\n",
    "train_wav_fnames, train_wav_labels = getWavFileNames(path_to_train, meta)\n",
    "train_wav_fnames[:10], train_wav_labels[:10]"
   ]
  },
  {
   "cell_type": "code",
   "execution_count": 9,
   "metadata": {},
   "outputs": [
    {
     "data": {
      "application/vnd.jupyter.widget-view+json": {
       "model_id": "50add7d48b3b43c880cbd49d14b63fb8",
       "version_major": 2,
       "version_minor": 0
      },
      "text/plain": [
       "A Jupyter Widget"
      ]
     },
     "metadata": {},
     "output_type": "display_data"
    },
    {
     "name": "stdout",
     "output_type": "stream",
     "text": [
      "\n"
     ]
    },
    {
     "data": {
      "text/plain": [
       "(['background_0001.wav',\n",
       "  'background_0004.wav',\n",
       "  'background_0009.wav',\n",
       "  'background_0012.wav',\n",
       "  'background_0016.wav',\n",
       "  'background_0018.wav',\n",
       "  'background_0022.wav',\n",
       "  'background_0028.wav',\n",
       "  'background_0031.wav',\n",
       "  'background_0036.wav'],\n",
       " [0, 0, 0, 0, 0, 0, 0, 0, 0, 0])"
      ]
     },
     "execution_count": 9,
     "metadata": {},
     "output_type": "execute_result"
    }
   ],
   "source": [
    "path_to_test = './data_v_7_stc/test'\n",
    "test_wav_fnames, test_wav_labels = getWavFileNames(path_to_test)\n",
    "test_wav_fnames[:10], test_wav_labels[:10]"
   ]
  },
  {
   "cell_type": "markdown",
   "metadata": {},
   "source": [
    "Let's split train data to train and validation sets."
   ]
  },
  {
   "cell_type": "code",
   "execution_count": 10,
   "metadata": {},
   "outputs": [
    {
     "data": {
      "text/plain": [
       "(7914, 3393)"
      ]
     },
     "execution_count": 10,
     "metadata": {},
     "output_type": "execute_result"
    }
   ],
   "source": [
    "train_wav_fnames, val_wav_fnames, train_wav_labels, val_wav_labels = train_test_split(train_wav_fnames, train_wav_labels, test_size=0.3, random_state=RANDOM_STATE)\n",
    "len(train_wav_fnames), len(val_wav_fnames)"
   ]
  },
  {
   "cell_type": "markdown",
   "metadata": {},
   "source": [
    "We will use simple feature extractor (`MFCC`, `MEL SPECTROGRAM`, etc.)."
   ]
  },
  {
   "cell_type": "code",
   "execution_count": 11,
   "metadata": {},
   "outputs": [],
   "source": [
    "def padAudio(samples, sr=16000):\n",
    "    if len(samples) >= sr:\n",
    "        return samples\n",
    "    else:\n",
    "        return np.pad(samples, pad_width=(sr - len(samples), 0), mode='constant', constant_values=(0, 0))"
   ]
  },
  {
   "cell_type": "code",
   "execution_count": 12,
   "metadata": {},
   "outputs": [],
   "source": [
    "def windows(data, window_size):\n",
    "    start = 0\n",
    "    while start < len(data):\n",
    "        yield start, start + window_size\n",
    "        start += (window_size // 2)"
   ]
  },
  {
   "cell_type": "code",
   "execution_count": 13,
   "metadata": {},
   "outputs": [],
   "source": [
    "def extractFeatures(path, fnames, tlabels, bands=60, frames=41):\n",
    "    window_size = 512*(frames - 1)\n",
    "    log_specgrams = []\n",
    "    labels = []\n",
    "    spec_num = []\n",
    "    for fname, label in tqdm_notebook(zip(fnames, tlabels), total=len(fnames)):\n",
    "        sound_clip, s = librosa.load(os.path.join(path, fname))\n",
    "        sound_clip = padAudio(sound_clip, sr=s)\n",
    "        i = 0\n",
    "        for start, end in windows(sound_clip, window_size):\n",
    "            if(len(sound_clip[start:end]) == window_size):\n",
    "                signal = sound_clip[start:end]\n",
    "                melspec = librosa.feature.melspectrogram(signal, n_mels=bands)\n",
    "                logspec = librosa.amplitude_to_db(melspec)\n",
    "                logspec = logspec.T.flatten()[:, np.newaxis].T\n",
    "                log_specgrams.append(logspec)\n",
    "                i += 1\n",
    "                labels.append(label)\n",
    "        spec_num.append(i)\n",
    "            \n",
    "    log_specgrams = np.asarray(log_specgrams).reshape(len(log_specgrams), 1, bands, frames)\n",
    "    features = np.concatenate((log_specgrams, np.zeros(np.shape(log_specgrams))), axis=1)\n",
    "    for i in range(len(features)):\n",
    "        features[i, 1, ...] = librosa.feature.delta(features[i, 0, ...])\n",
    "    \n",
    "    return np.array(features), np.array(labels, dtype=np.int), np.array(spec_num, dtype=np.int)"
   ]
  },
  {
   "cell_type": "code",
   "execution_count": 14,
   "metadata": {},
   "outputs": [
    {
     "data": {
      "text/plain": [
       "((79787, 2, 60, 41), (79787,))"
      ]
     },
     "execution_count": 14,
     "metadata": {},
     "output_type": "execute_result"
    }
   ],
   "source": [
    "if os.path.exists('./X_train_2.npy') and os.path.exists('./y_train_2.npy'):\n",
    "    X_train = np.load('./X_train_2.npy')\n",
    "    y_train = np.load('./y_train_2.npy')\n",
    "else:\n",
    "    X_train, y_train, _ = extractFeatures(path_to_train, train_wav_fnames, train_wav_labels)\n",
    "    np.save('./X_train_2', X_train)\n",
    "    np.save('./y_train_2', y_train)\n",
    "\n",
    "X_train.shape, y_train.shape"
   ]
  },
  {
   "cell_type": "code",
   "execution_count": 15,
   "metadata": {},
   "outputs": [
    {
     "data": {
      "text/plain": [
       "'knocking_door'"
      ]
     },
     "execution_count": 15,
     "metadata": {},
     "output_type": "execute_result"
    },
    {
     "data": {
      "image/png": "[encoded data removed]",
      "text/plain": [
       "<matplotlib.figure.Figure at 0x15344787748>"
      ]
     },
     "metadata": {},
     "output_type": "display_data"
    }
   ],
   "source": [
    "idx = 100\n",
    "plt.imshow(X_train[idx][0]); index_to_label[y_train[idx]]"
   ]
  },
  {
   "cell_type": "code",
   "execution_count": 16,
   "metadata": {
    "scrolled": true
   },
   "outputs": [
    {
     "data": {
      "text/plain": [
       "((34564, 2, 60, 41), (34564,), (3393,))"
      ]
     },
     "execution_count": 16,
     "metadata": {},
     "output_type": "execute_result"
    }
   ],
   "source": [
    "if os.path.exists('./X_val_2.npy') and os.path.exists('./y_val_2.npy') and os.path.exists('./c_val_2.npy'):\n",
    "    X_val = np.load('./X_val_2.npy')\n",
    "    y_val = np.load('./y_val_2.npy')\n",
    "    c_val = np.load('./c_val_2.npy')\n",
    "else:\n",
    "    X_val, y_val, c_val = extractFeatures(path_to_train, val_wav_fnames, val_wav_labels)\n",
    "    np.save('./X_val_2', X_val)\n",
    "    np.save('./y_val_2', y_val)\n",
    "    np.save('./c_val_2', c_val)\n",
    "\n",
    "X_val.shape, y_val.shape, c_val.shape"
   ]
  },
  {
   "cell_type": "code",
   "execution_count": 17,
   "metadata": {},
   "outputs": [
    {
     "data": {
      "text/plain": [
       "'knocking_door'"
      ]
     },
     "execution_count": 17,
     "metadata": {},
     "output_type": "execute_result"
    },
    {
     "data": {
      "image/png": "[encoded data removed]",
      "text/plain": [
       "<matplotlib.figure.Figure at 0x15405c17358>"
      ]
     },
     "metadata": {},
     "output_type": "display_data"
    }
   ],
   "source": [
    "idx = 3\n",
    "plt.imshow(X_val[idx][0]); index_to_label[y_val[idx]]"
   ]
  },
  {
   "cell_type": "markdown",
   "metadata": {},
   "source": [
    "Load `train.zip` data from [here](https://drive.google.com/drive/folders/0By0bAi7hOBAFUHVXd1JCN3MwTEU) (taken from [kaggle competition](https://www.kaggle.com/pavansanagapati/urban-sound-classification/home)). We will use this for `unknown` class."
   ]
  },
  {
   "cell_type": "code",
   "execution_count": 18,
   "metadata": {
    "scrolled": true
   },
   "outputs": [
    {
     "data": {
      "text/html": [
       "<div>\n",
       "<style>\n",
       "    .dataframe thead tr:only-child th {\n",
       "        text-align: right;\n",
       "    }\n",
       "\n",
       "    .dataframe thead th {\n",
       "        text-align: left;\n",
       "    }\n",
       "\n",
       "    .dataframe tbody tr th {\n",
       "        vertical-align: top;\n",
       "    }\n",
       "</style>\n",
       "<table border=\"1\" class=\"dataframe\">\n",
       "  <thead>\n",
       "    <tr style=\"text-align: right;\">\n",
       "      <th></th>\n",
       "      <th>file_names</th>\n",
       "      <th>label</th>\n",
       "    </tr>\n",
       "  </thead>\n",
       "  <tbody>\n",
       "    <tr>\n",
       "      <th>0</th>\n",
       "      <td>0</td>\n",
       "      <td>siren</td>\n",
       "    </tr>\n",
       "    <tr>\n",
       "      <th>1</th>\n",
       "      <td>1</td>\n",
       "      <td>street_music</td>\n",
       "    </tr>\n",
       "    <tr>\n",
       "      <th>2</th>\n",
       "      <td>2</td>\n",
       "      <td>drilling</td>\n",
       "    </tr>\n",
       "    <tr>\n",
       "      <th>3</th>\n",
       "      <td>3</td>\n",
       "      <td>siren</td>\n",
       "    </tr>\n",
       "    <tr>\n",
       "      <th>4</th>\n",
       "      <td>4</td>\n",
       "      <td>dog_bark</td>\n",
       "    </tr>\n",
       "  </tbody>\n",
       "</table>\n",
       "</div>"
      ],
      "text/plain": [
       "   file_names         label\n",
       "0           0         siren\n",
       "1           1  street_music\n",
       "2           2      drilling\n",
       "3           3         siren\n",
       "4           4      dog_bark"
      ]
     },
     "execution_count": 18,
     "metadata": {},
     "output_type": "execute_result"
    }
   ],
   "source": [
    "meta = pd.read_csv('./train.csv',\n",
    "                   header=0,\n",
    "                   names=['file_names', 'label'])\n",
    "meta.head()"
   ]
  },
  {
   "cell_type": "code",
   "execution_count": 19,
   "metadata": {},
   "outputs": [
    {
     "data": {
      "text/html": [
       "<div>\n",
       "<style>\n",
       "    .dataframe thead tr:only-child th {\n",
       "        text-align: right;\n",
       "    }\n",
       "\n",
       "    .dataframe thead th {\n",
       "        text-align: left;\n",
       "    }\n",
       "\n",
       "    .dataframe tbody tr th {\n",
       "        vertical-align: top;\n",
       "    }\n",
       "</style>\n",
       "<table border=\"1\" class=\"dataframe\">\n",
       "  <thead>\n",
       "    <tr style=\"text-align: right;\">\n",
       "      <th></th>\n",
       "      <th>file_names</th>\n",
       "      <th>label</th>\n",
       "    </tr>\n",
       "  </thead>\n",
       "  <tbody>\n",
       "    <tr>\n",
       "      <th>0</th>\n",
       "      <td>0.wav</td>\n",
       "      <td>8</td>\n",
       "    </tr>\n",
       "    <tr>\n",
       "      <th>1</th>\n",
       "      <td>1.wav</td>\n",
       "      <td>8</td>\n",
       "    </tr>\n",
       "    <tr>\n",
       "      <th>2</th>\n",
       "      <td>2.wav</td>\n",
       "      <td>8</td>\n",
       "    </tr>\n",
       "    <tr>\n",
       "      <th>3</th>\n",
       "      <td>3.wav</td>\n",
       "      <td>8</td>\n",
       "    </tr>\n",
       "    <tr>\n",
       "      <th>4</th>\n",
       "      <td>4.wav</td>\n",
       "      <td>8</td>\n",
       "    </tr>\n",
       "  </tbody>\n",
       "</table>\n",
       "</div>"
      ],
      "text/plain": [
       "  file_names  label\n",
       "0      0.wav      8\n",
       "1      1.wav      8\n",
       "2      2.wav      8\n",
       "3      3.wav      8\n",
       "4      4.wav      8"
      ]
     },
     "execution_count": 19,
     "metadata": {},
     "output_type": "execute_result"
    }
   ],
   "source": [
    "meta.file_names = meta.file_names.apply(lambda fname : str(fname) + '.wav')\n",
    "meta.label = meta.label.apply(lambda _ : label_to_index['unknown'])\n",
    "meta.head()"
   ]
  },
  {
   "cell_type": "code",
   "execution_count": 20,
   "metadata": {},
   "outputs": [
    {
     "data": {
      "application/vnd.jupyter.widget-view+json": {
       "model_id": "7e481bef6a564a59bb726e96106c9575",
       "version_major": 2,
       "version_minor": 0
      },
      "text/plain": [
       "A Jupyter Widget"
      ]
     },
     "metadata": {},
     "output_type": "display_data"
    },
    {
     "name": "stdout",
     "output_type": "stream",
     "text": [
      "\n"
     ]
    },
    {
     "data": {
      "text/plain": [
       "(['0.wav',\n",
       "  '1.wav',\n",
       "  '2.wav',\n",
       "  '3.wav',\n",
       "  '4.wav',\n",
       "  '6.wav',\n",
       "  '10.wav',\n",
       "  '11.wav',\n",
       "  '12.wav',\n",
       "  '15.wav'],\n",
       " [8, 8, 8, 8, 8, 8, 8, 8, 8, 8])"
      ]
     },
     "execution_count": 20,
     "metadata": {},
     "output_type": "execute_result"
    }
   ],
   "source": [
    "path_to_train_aug = './Train'\n",
    "train_aug_wav_fnames, train_aug_wav_labels = getWavFileNames(path_to_train_aug, meta)\n",
    "train_aug_wav_fnames[:10], train_aug_wav_labels[:10]"
   ]
  },
  {
   "cell_type": "code",
   "execution_count": 21,
   "metadata": {},
   "outputs": [
    {
     "data": {
      "text/plain": [
       "(3804, 1631)"
      ]
     },
     "execution_count": 21,
     "metadata": {},
     "output_type": "execute_result"
    }
   ],
   "source": [
    "train_aug_wav_fnames, val_aug_wav_fnames, train_aug_wav_labels, val_aug_wav_labels = train_test_split(train_aug_wav_fnames, train_aug_wav_labels, test_size=0.3, random_state=RANDOM_STATE)\n",
    "len(train_aug_wav_fnames), len(val_aug_wav_fnames)"
   ]
  },
  {
   "cell_type": "code",
   "execution_count": 22,
   "metadata": {},
   "outputs": [
    {
     "data": {
      "text/plain": [
       "['3998.wav',\n",
       " '6370.wav',\n",
       " '8442.wav',\n",
       " '6662.wav',\n",
       " '6759.wav',\n",
       " '2363.wav',\n",
       " '309.wav',\n",
       " '7942.wav',\n",
       " '427.wav',\n",
       " '1027.wav']"
      ]
     },
     "execution_count": 22,
     "metadata": {},
     "output_type": "execute_result"
    }
   ],
   "source": [
    "train_aug_wav_fnames[:10]"
   ]
  },
  {
   "cell_type": "code",
   "execution_count": 23,
   "metadata": {},
   "outputs": [
    {
     "data": {
      "text/plain": [
       "((23616, 2, 60, 41), (23616,))"
      ]
     },
     "execution_count": 23,
     "metadata": {},
     "output_type": "execute_result"
    }
   ],
   "source": [
    "if os.path.exists('./X_train_2_aug.npy') and os.path.exists('./y_train_2_aug.npy'):\n",
    "    X_train_aug = np.load('./X_train_2_aug.npy')\n",
    "    y_train_aug = np.load('./y_train_2_aug.npy')\n",
    "else:\n",
    "    X_train_aug, y_train_aug, _ = extractFeatures(path_to_train_aug, train_aug_wav_fnames, train_aug_wav_labels)\n",
    "    np.save('./X_train_2_aug', X_train_aug)\n",
    "    np.save('./y_train_2_aug', y_train_aug)\n",
    "\n",
    "X_train_aug.shape, y_train_aug.shape"
   ]
  },
  {
   "cell_type": "code",
   "execution_count": 24,
   "metadata": {},
   "outputs": [
    {
     "data": {
      "text/plain": [
       "((10157, 2, 60, 41), (10157,))"
      ]
     },
     "execution_count": 24,
     "metadata": {},
     "output_type": "execute_result"
    }
   ],
   "source": [
    "if os.path.exists('./X_val_2_aug.npy') and os.path.exists('./y_val_2_aug.npy') and os.path.exists('./c_val_2_aug.npy'):\n",
    "    X_val_aug = np.load('./X_val_2_aug.npy')\n",
    "    y_val_aug = np.load('./y_val_2_aug.npy')\n",
    "    c_val_aug = np.load('./c_val_2_aug.npy')\n",
    "else:\n",
    "    X_val_aug, y_val_aug, c_val_aug = extractFeatures(path_to_train_aug, val_aug_wav_fnames, val_aug_wav_labels)\n",
    "    np.save('./X_val_2_aug', X_val_aug)\n",
    "    np.save('./y_val_2_aug', y_val_aug)\n",
    "    np.save('./c_val_2_aug', c_val_aug)\n",
    "\n",
    "X_val_aug.shape, y_val_aug.shape"
   ]
  },
  {
   "cell_type": "code",
   "execution_count": 25,
   "metadata": {},
   "outputs": [],
   "source": [
    "X_train = np.vstack([X_train, X_train_aug])\n",
    "y_train = np.hstack([y_train, y_train_aug])\n",
    "X_val = np.vstack([X_val, X_val_aug])\n",
    "y_val = np.hstack([y_val, y_val_aug])\n",
    "c_val = np.hstack([c_val, c_val_aug])"
   ]
  },
  {
   "cell_type": "markdown",
   "metadata": {},
   "source": [
    "Let's define simple CNN using pytorch."
   ]
  },
  {
   "cell_type": "code",
   "execution_count": 26,
   "metadata": {},
   "outputs": [],
   "source": [
    "def dataGenerator(data, batch_size=32):\n",
    "    X, y = data\n",
    "    n = len(X)\n",
    "    inds = np.arange(n)\n",
    "    np.random.shuffle(inds)\n",
    "    for start in range(0, n, batch_size):\n",
    "        end = min(start + batch_size, n)\n",
    "        yield X[inds[start:end]], y[inds[start:end]]"
   ]
  },
  {
   "cell_type": "code",
   "execution_count": 27,
   "metadata": {},
   "outputs": [],
   "source": [
    "class Flatten(nn.Module):\n",
    "    def __init__(self):\n",
    "        super(Flatten, self).__init__()\n",
    "        \n",
    "    def forward(self, x):\n",
    "        return x.view(x.shape[0], -1)"
   ]
  },
  {
   "cell_type": "code",
   "execution_count": 28,
   "metadata": {},
   "outputs": [],
   "source": [
    "def getNet():\n",
    "    return nn.Sequential(\n",
    "        nn.Conv2d(2, 32, 3),\n",
    "        nn.BatchNorm2d(32),\n",
    "        nn.ReLU(inplace=True),\n",
    "        nn.Conv2d(32, 32, 3),\n",
    "        nn.BatchNorm2d(32),\n",
    "        nn.MaxPool2d(2, 2),\n",
    "        nn.ReLU(inplace=True),\n",
    "\n",
    "        nn.Conv2d(32, 64, 3),\n",
    "        nn.BatchNorm2d(64),\n",
    "        nn.ReLU(inplace=True),\n",
    "        nn.Conv2d(64, 64, 3),\n",
    "        nn.BatchNorm2d(64),\n",
    "#         nn.MaxPool2d(2, 2),\n",
    "        nn.ReLU(inplace=True),\n",
    "\n",
    "        nn.Conv2d(64, 128, 3),\n",
    "        nn.BatchNorm2d(128),\n",
    "        nn.ReLU(inplace=True),\n",
    "        nn.Conv2d(128, 128, 3),\n",
    "        nn.BatchNorm2d(128),\n",
    "#         nn.MaxPool2d(2, 2),\n",
    "        nn.ReLU(inplace=True),\n",
    "        \n",
    "        nn.Conv2d(128, 256, 3),\n",
    "        nn.BatchNorm2d(256),\n",
    "        nn.ReLU(inplace=True),\n",
    "        nn.Conv2d(256, 256, 3),\n",
    "        nn.BatchNorm2d(256),\n",
    "#         nn.MaxPool2d(2, 2),\n",
    "        nn.ReLU(inplace=True),\n",
    "        \n",
    "        nn.Conv2d(256, 512, 3),\n",
    "        nn.BatchNorm2d(512),\n",
    "        nn.ReLU(inplace=True),\n",
    "        nn.Conv2d(512, 512, 3),\n",
    "        nn.BatchNorm2d(512),\n",
    "        nn.MaxPool2d(2, 2),\n",
    "        nn.ReLU(inplace=True),\n",
    "\n",
    "        Flatten(),\n",
    "\n",
    "        nn.Linear(3072, 3072),\n",
    "        nn.Dropout(0.8),\n",
    "        nn.ReLU(inplace=True),\n",
    "\n",
    "        nn.Linear(3072, 3072),\n",
    "        nn.Dropout(0.8),\n",
    "        nn.ReLU(inplace=True),\n",
    "\n",
    "        nn.Linear(3072, 9),\n",
    "    )"
   ]
  },
  {
   "cell_type": "code",
   "execution_count": 29,
   "metadata": {},
   "outputs": [],
   "source": [
    "net = getNet().to(device)"
   ]
  },
  {
   "cell_type": "code",
   "execution_count": 30,
   "metadata": {},
   "outputs": [],
   "source": [
    "def calcLoss(inp, target):\n",
    "    return F.cross_entropy(inp, target)"
   ]
  },
  {
   "cell_type": "code",
   "execution_count": 31,
   "metadata": {},
   "outputs": [
    {
     "data": {
      "text/plain": [
       "tensor(2.9896, device='cuda:0')"
      ]
     },
     "execution_count": 31,
     "metadata": {},
     "output_type": "execute_result"
    }
   ],
   "source": [
    "logits = net(torch.FloatTensor(next(dataGenerator((X_train, y_train), 1))[0]).to(device))\n",
    "target = torch.LongTensor(next(dataGenerator((X_train, y_train), 1))[1]).to(device)\n",
    "calcLoss(logits, target)"
   ]
  },
  {
   "cell_type": "markdown",
   "metadata": {},
   "source": [
    "Ok, it seems works. Choose Adam optimizer and learn about $30$ epochs."
   ]
  },
  {
   "cell_type": "code",
   "execution_count": 32,
   "metadata": {},
   "outputs": [],
   "source": [
    "opt = torch.optim.Adam(net.parameters(), 1e-3)"
   ]
  },
  {
   "cell_type": "code",
   "execution_count": 41,
   "metadata": {},
   "outputs": [],
   "source": [
    "batch_size = 32\n",
    "epochs = 100"
   ]
  },
  {
   "cell_type": "code",
   "execution_count": 42,
   "metadata": {},
   "outputs": [],
   "source": [
    "# net.load_state_dict(torch.load('./model'))\n",
    "# opt.load_state_dict(torch.load('./opt'))\n",
    "\n",
    "# train_loss = torch.load('./train_loss')\n",
    "# train_acc = torch.load('./train_acc')\n",
    "# val_loss = torch.load('./val_loss')\n",
    "# val_acc = torch.load('./val_acc')"
   ]
  },
  {
   "cell_type": "code",
   "execution_count": 44,
   "metadata": {
    "scrolled": true
   },
   "outputs": [
    {
     "data": {
      "image/png": "[encoded data removed]",
      "text/plain": [
       "<matplotlib.figure.Figure at 0x15405c3d208>"
      ]
     },
     "metadata": {},
     "output_type": "display_data"
    },
    {
     "data": {
      "application/vnd.jupyter.widget-view+json": {
       "model_id": "b57ffb21a801463789481465ab7fafe0",
       "version_major": 2,
       "version_minor": 0
      },
      "text/plain": [
       "A Jupyter Widget"
      ]
     },
     "metadata": {},
     "output_type": "display_data"
    },
    {
     "name": "stdout",
     "output_type": "stream",
     "text": [
      "\n"
     ]
    },
    {
     "ename": "KeyboardInterrupt",
     "evalue": "",
     "output_type": "error",
     "traceback": [
      "\u001b[1;31m---------------------------------------------------------------------------\u001b[0m",
      "\u001b[1;31mKeyboardInterrupt\u001b[0m                         Traceback (most recent call last)",
      "\u001b[1;32m<ipython-input-44-2735e683884c>\u001b[0m in \u001b[0;36m<module>\u001b[1;34m()\u001b[0m\n\u001b[0;32m     19\u001b[0m         \u001b[0mopt\u001b[0m\u001b[1;33m.\u001b[0m\u001b[0mzero_grad\u001b[0m\u001b[1;33m(\u001b[0m\u001b[1;33m)\u001b[0m\u001b[1;33m\u001b[0m\u001b[0m\n\u001b[0;32m     20\u001b[0m         \u001b[0mloss\u001b[0m\u001b[1;33m.\u001b[0m\u001b[0mbackward\u001b[0m\u001b[1;33m(\u001b[0m\u001b[1;33m)\u001b[0m\u001b[1;33m\u001b[0m\u001b[0m\n\u001b[1;32m---> 21\u001b[1;33m         \u001b[0mopt\u001b[0m\u001b[1;33m.\u001b[0m\u001b[0mstep\u001b[0m\u001b[1;33m(\u001b[0m\u001b[1;33m)\u001b[0m\u001b[1;33m\u001b[0m\u001b[0m\n\u001b[0m\u001b[0;32m     22\u001b[0m         \u001b[0mi\u001b[0m \u001b[1;33m+=\u001b[0m \u001b[1;36m1\u001b[0m\u001b[1;33m\u001b[0m\u001b[0m\n\u001b[0;32m     23\u001b[0m         \u001b[0mnum\u001b[0m \u001b[1;33m+=\u001b[0m \u001b[0mlen\u001b[0m\u001b[1;33m(\u001b[0m\u001b[0minp\u001b[0m\u001b[1;33m)\u001b[0m\u001b[1;33m\u001b[0m\u001b[0m\n",
      "\u001b[1;32mc:\\users\\cyril\\anaconda3\\lib\\site-packages\\torch\\optim\\adam.py\u001b[0m in \u001b[0;36mstep\u001b[1;34m(self, closure)\u001b[0m\n\u001b[0;32m    104\u001b[0m                 \u001b[0mstep_size\u001b[0m \u001b[1;33m=\u001b[0m \u001b[0mgroup\u001b[0m\u001b[1;33m[\u001b[0m\u001b[1;34m'lr'\u001b[0m\u001b[1;33m]\u001b[0m \u001b[1;33m*\u001b[0m \u001b[0mmath\u001b[0m\u001b[1;33m.\u001b[0m\u001b[0msqrt\u001b[0m\u001b[1;33m(\u001b[0m\u001b[0mbias_correction2\u001b[0m\u001b[1;33m)\u001b[0m \u001b[1;33m/\u001b[0m \u001b[0mbias_correction1\u001b[0m\u001b[1;33m\u001b[0m\u001b[0m\n\u001b[0;32m    105\u001b[0m \u001b[1;33m\u001b[0m\u001b[0m\n\u001b[1;32m--> 106\u001b[1;33m                 \u001b[0mp\u001b[0m\u001b[1;33m.\u001b[0m\u001b[0mdata\u001b[0m\u001b[1;33m.\u001b[0m\u001b[0maddcdiv_\u001b[0m\u001b[1;33m(\u001b[0m\u001b[1;33m-\u001b[0m\u001b[0mstep_size\u001b[0m\u001b[1;33m,\u001b[0m \u001b[0mexp_avg\u001b[0m\u001b[1;33m,\u001b[0m \u001b[0mdenom\u001b[0m\u001b[1;33m)\u001b[0m\u001b[1;33m\u001b[0m\u001b[0m\n\u001b[0m\u001b[0;32m    107\u001b[0m \u001b[1;33m\u001b[0m\u001b[0m\n\u001b[0;32m    108\u001b[0m         \u001b[1;32mreturn\u001b[0m \u001b[0mloss\u001b[0m\u001b[1;33m\u001b[0m\u001b[0m\n",
      "\u001b[1;31mKeyboardInterrupt\u001b[0m: "
     ]
    }
   ],
   "source": [
    "train_loss = []\n",
    "train_acc = []\n",
    "val_loss = []\n",
    "val_acc = []\n",
    "best_val_acc = 0\n",
    "for epoch in range(len(train_loss), epochs):\n",
    "    net.train()\n",
    "    train_loss_loc = 0\n",
    "    train_acc_loc = 0\n",
    "    i = 0\n",
    "    num = 0\n",
    "    for inp, target in tqdm_notebook(dataGenerator((X_train, y_train), batch_size=batch_size), total=len(X_train)//batch_size + 1):\n",
    "        inp = torch.tensor(inp, dtype=torch.float32, device=device, requires_grad=True)\n",
    "        target = torch.tensor(target, dtype=torch.int64, device=device)\n",
    "        logits = net(inp)\n",
    "        loss = calcLoss(logits, target)\n",
    "        train_loss_loc += loss.item()\n",
    "        train_acc_loc += (target.cpu().numpy() == F.softmax(logits, dim=1).detach().cpu().numpy().argmax(1)).sum()\n",
    "        opt.zero_grad()\n",
    "        loss.backward()\n",
    "        opt.step()\n",
    "        i += 1\n",
    "        num += len(inp)\n",
    "    train_loss.append(train_loss_loc/i)\n",
    "    train_acc.append(train_acc_loc/num)\n",
    "    \n",
    "    net.eval()\n",
    "    with torch.no_grad():\n",
    "        start = 0\n",
    "        val_loss_loc = 0\n",
    "        val_acc_loc = 0\n",
    "        y_pred = []\n",
    "        yval = []\n",
    "        for num in tqdm_notebook(c_val):\n",
    "            yval.append(y_val[start])\n",
    "            xval = torch.tensor(X_val[start:start + num], dtype=torch.float32, device=device)\n",
    "            target = torch.tensor(y_val[start:start + num], dtype=torch.int64, device=device)\n",
    "            logits = net(xval)\n",
    "            loss = calcLoss(logits, target)\n",
    "            val_loss_loc += loss.item()\n",
    "            probas = F.softmax(logits, dim=1).cpu().numpy()\n",
    "            y_pred.append(probas.mean(0))\n",
    "            start += num\n",
    "        y_pred = np.array(y_pred)\n",
    "        yval = np.array(yval)\n",
    "        val_loss.append(val_loss_loc/len(c_val))\n",
    "        val_acc.append((y_pred.argmax(1) == yval).mean())\n",
    "        \n",
    "    if val_acc[-1] > best_val_acc:\n",
    "        best_val_acc = val_acc[-1]\n",
    "        best_net_state_dict = net.state_dict()\n",
    "        torch.save(best_net_state_dict, './models/best_model')\n",
    "\n",
    "    clear_output(True)\n",
    "    plt.subplot(1, 2, 1)\n",
    "    plt.title('Train loss: {:4.3f}, val loss: {:4.3f}'.format(train_loss[-1], val_loss[-1]))\n",
    "    plt.plot(train_loss, label='train loss')\n",
    "    plt.plot(val_loss, label='val loss')\n",
    "    plt.legend()\n",
    "    plt.xlabel('epoch number')\n",
    "    plt.ylabel('XEntropy loss')\n",
    "    plt.grid(ls='--')\n",
    "    \n",
    "    plt.subplot(1, 2, 2)\n",
    "    plt.title('Train acc: {:4.3f}, val acc: {:4.3f}'.format(train_acc[-1], val_acc[-1]))\n",
    "    plt.plot(train_acc, label='train acc')\n",
    "    plt.plot(val_acc, label='val acc')\n",
    "    plt.legend()\n",
    "    plt.xlabel('epoch number')\n",
    "    plt.ylabel('Accuracy')\n",
    "    plt.grid(ls='--')\n",
    "\n",
    "    plt.show()"
   ]
  },
  {
   "cell_type": "code",
   "execution_count": 45,
   "metadata": {},
   "outputs": [],
   "source": [
    "if not os.path.exists('./models'): os.mkdir('./models')\n",
    "torch.save(net.state_dict(), './models/model')\n",
    "torch.save(opt.state_dict(), './models/opt')\n",
    "\n",
    "torch.save(train_loss, './models/train_loss')\n",
    "torch.save(train_acc, './models/train_acc')\n",
    "torch.save(val_loss, './models/val_loss')\n",
    "torch.save(val_acc, './models/val_acc')"
   ]
  },
  {
   "cell_type": "code",
   "execution_count": 37,
   "metadata": {},
   "outputs": [
    {
     "data": {
      "text/plain": [
       "((6754, 2, 60, 41), (6754,), (610,))"
      ]
     },
     "execution_count": 37,
     "metadata": {},
     "output_type": "execute_result"
    }
   ],
   "source": [
    "if os.path.exists('./X_test_2.npy') and os.path.exists('./y_test_2.npy') and os.path.exists('./c_test_2.npy'):\n",
    "    X_test = np.load('./X_test_2.npy')\n",
    "    y_test = np.load('./y_test_2.npy')\n",
    "    c_test = np.load('./c_test_2.npy')\n",
    "else:\n",
    "    X_test, y_test, c_test = extractFeatures(path_to_test, test_wav_fnames, test_wav_labels)\n",
    "    np.save('./X_test_2', X_test)\n",
    "    np.save('./y_test_2', y_test)\n",
    "    np.save('./c_test_2', c_test)\n",
    "\n",
    "X_test.shape, y_test.shape, c_test.shape"
   ]
  },
  {
   "cell_type": "code",
   "execution_count": 46,
   "metadata": {},
   "outputs": [
    {
     "data": {
      "application/vnd.jupyter.widget-view+json": {
       "model_id": "3b89a67cfb8148cca49bc11c8c24b8cc",
       "version_major": 2,
       "version_minor": 0
      },
      "text/plain": [
       "A Jupyter Widget"
      ]
     },
     "metadata": {},
     "output_type": "display_data"
    },
    {
     "name": "stdout",
     "output_type": "stream",
     "text": [
      "\n"
     ]
    },
    {
     "data": {
      "text/plain": [
       "(4.7342552142140475, 0.78688524590163933, 0.89852008456659616)"
      ]
     },
     "execution_count": 46,
     "metadata": {},
     "output_type": "execute_result"
    }
   ],
   "source": [
    "net.load_state_dict(torch.load('./models/model'))\n",
    "net.eval()\n",
    "with torch.no_grad():\n",
    "    start = 0\n",
    "    test_loss_loc = 0\n",
    "    test_acc_loc = 0\n",
    "    y_pred = []\n",
    "    ytest = []\n",
    "    for num in tqdm_notebook(c_test):\n",
    "        ytest.append(y_test[start])\n",
    "        xtest = torch.tensor(X_test[start:start + num], dtype=torch.float32, device=device)\n",
    "        target = torch.tensor(y_test[start:start + num], dtype=torch.int64, device=device)\n",
    "        logits = net(xtest)\n",
    "        loss = calcLoss(logits, target)\n",
    "        test_loss_loc += loss.item()\n",
    "        probas = F.softmax(logits, dim=1).cpu().numpy()\n",
    "        y_pred.append(probas.mean(0))\n",
    "        start += num\n",
    "    y_pred = np.array(y_pred)\n",
    "    ytest = np.array(ytest)\n",
    "\n",
    "test_loss_loc/len(c_test), (y_pred.argmax(1) == ytest).mean(), (y_pred.argmax(1) == ytest)[:-137].mean()"
   ]
  },
  {
   "cell_type": "code",
   "execution_count": 49,
   "metadata": {},
   "outputs": [
    {
     "data": {
      "application/vnd.jupyter.widget-view+json": {
       "model_id": "f07130f7d0dd4928922a461d2198f880",
       "version_major": 2,
       "version_minor": 0
      },
      "text/plain": [
       "A Jupyter Widget"
      ]
     },
     "metadata": {},
     "output_type": "display_data"
    },
    {
     "name": "stdout",
     "output_type": "stream",
     "text": [
      "\n"
     ]
    },
    {
     "data": {
      "text/plain": [
       "(6.367386663798361, 0.80819672131147546, 0.93234672304439747)"
      ]
     },
     "execution_count": 49,
     "metadata": {},
     "output_type": "execute_result"
    }
   ],
   "source": [
    "net.load_state_dict(torch.load('./models/best_model'))\n",
    "net.eval()\n",
    "with torch.no_grad():\n",
    "    start = 0\n",
    "    test_loss_loc = 0\n",
    "    test_acc_loc = 0\n",
    "    y_pred = []\n",
    "    ytest = []\n",
    "    for num in tqdm_notebook(c_test):\n",
    "        ytest.append(y_test[start])\n",
    "        xtest = torch.tensor(X_test[start:start + num], dtype=torch.float32, device=device)\n",
    "        target = torch.tensor(y_test[start:start + num], dtype=torch.int64, device=device)\n",
    "        logits = net(xtest)\n",
    "        loss = calcLoss(logits, target)\n",
    "        test_loss_loc += loss.item()\n",
    "        probas = F.softmax(logits, dim=1).cpu().numpy()\n",
    "        y_pred.append(probas.mean(0))\n",
    "        start += num\n",
    "    y_pred = np.array(y_pred)\n",
    "    ytest = np.array(ytest)\n",
    "\n",
    "test_loss_loc/len(c_test), (y_pred.argmax(1) == ytest).mean(), (y_pred.argmax(1) == ytest)[:-137].mean()"
   ]
  },
  {
   "cell_type": "code",
   "execution_count": 57,
   "metadata": {},
   "outputs": [
    {
     "data": {
      "application/vnd.jupyter.widget-view+json": {
       "model_id": "9423673ebb1746c2b8d39fccd05b9bf3",
       "version_major": 2,
       "version_minor": 0
      },
      "text/plain": [
       "A Jupyter Widget"
      ]
     },
     "metadata": {},
     "output_type": "display_data"
    },
    {
     "name": "stdout",
     "output_type": "stream",
     "text": [
      "\n"
     ]
    },
    {
     "data": {
      "text/plain": [
       "(2.2897637681751637, 0.81311475409836065, 0.95137420718816068)"
      ]
     },
     "execution_count": 57,
     "metadata": {},
     "output_type": "execute_result"
    }
   ],
   "source": [
    "# net.eval()\n",
    "# start = 0\n",
    "# test_loss_loc = 0\n",
    "# test_acc_loc = 0\n",
    "# y_pred = []\n",
    "# ytest = []\n",
    "# for num in tqdm_notebook(c_test):\n",
    "#     ytest.append(y_test[start])\n",
    "#     xtest = Variable(torch.FloatTensor(X_test[start:start + num]), volatile=True).cuda()\n",
    "#     target = Variable(torch.LongTensor(y_test[start:start + num]), volatile=True).cuda()\n",
    "#     logits = net(xtest)\n",
    "#     loss = calcLoss(logits, target)\n",
    "#     test_loss_loc += loss.cpu().data.numpy()[0]\n",
    "#     probas = F.softmax(logits, dim=1).cpu().data.numpy()\n",
    "#     y_pred.append(probas.mean(0))\n",
    "#     start += num\n",
    "# y_pred = np.array(y_pred)\n",
    "# ytest = np.array(ytest)\n",
    "\n",
    "# test_loss_loc/len(c_test), (y_pred.argmax(1) == ytest).mean(), (y_pred.argmax(1) == ytest)[:-137].mean()"
   ]
  },
  {
   "cell_type": "markdown",
   "metadata": {},
   "source": [
    "Write results to file."
   ]
  },
  {
   "cell_type": "code",
   "execution_count": 50,
   "metadata": {},
   "outputs": [],
   "source": [
    "with open('./result.txt', 'w') as out:\n",
    "    for fname, probas in zip(test_wav_fnames, y_pred):\n",
    "        out.write('\\t'.join([fname, str(np.max(probas)), str(index_to_label[np.argmax(probas)])]))\n",
    "        out.write('\\n')"
   ]
  }
 ],
 "metadata": {
  "kernelspec": {
   "display_name": "Python 3",
   "language": "python",
   "name": "python3"
  },
  "language_info": {
   "codemirror_mode": {
    "name": "ipython",
    "version": 3
   },
   "file_extension": ".py",
   "mimetype": "text/x-python",
   "name": "python",
   "nbconvert_exporter": "python",
   "pygments_lexer": "ipython3",
   "version": "3.5.4"
  }
 },
 "nbformat": 4,
 "nbformat_minor": 2
}
